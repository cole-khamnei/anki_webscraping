{
 "cells": [
  {
   "cell_type": "code",
   "execution_count": 1,
   "id": "c6fd9042",
   "metadata": {},
   "outputs": [],
   "source": [
    "%load_ext autoreload\n",
    "%autoreload 2\n",
    "\n",
    "import genanki\n",
    "import webscrape as ws\n",
    "import anki_utils as au\n",
    "\n",
    "import constants\n",
    "import dill as pickle"
   ]
  },
  {
   "cell_type": "code",
   "execution_count": 2,
   "id": "c9ba3871",
   "metadata": {},
   "outputs": [],
   "source": [
    "import requests\n",
    "import bs4\n",
    "from bs4 import BeautifulSoup\n",
    "\n",
    "from tqdm.notebook import tqdm"
   ]
  },
  {
   "cell_type": "code",
   "execution_count": 3,
   "id": "a7934baf",
   "metadata": {},
   "outputs": [],
   "source": [
    "WIKI_JOURNAL_TRIAL_LIST_URL = \"https://www.wikijournalclub.org/wiki/WikiJournalClub:Usable_articles\""
   ]
  },
  {
   "cell_type": "code",
   "execution_count": 4,
   "id": "d1311363",
   "metadata": {},
   "outputs": [],
   "source": [
    "TAG_EXCLUDE_TOKENS = [\"articles_using\", \"pages_with\", \"usable\"]\n",
    "\n",
    "def process_section_html_text(html_section):\n",
    "    \"\"\"\"\"\"\n",
    "    return \"\".join(str(c) for c in html_section.contents)\n",
    "\n",
    "class Section:\n",
    "    def __init__(self, section_header):\n",
    "        self.header = section_header\n",
    "        self.info = section_header.next_element.next_element.next_element\n",
    "        self.title = section_header.next_element\n",
    "    \n",
    "    def __repr__(self):\n",
    "        return self.title.text.strip() + \"\\n\" + self.info.text\n",
    "\n",
    "\n",
    "class Trial:\n",
    "    def __init__(self, link):\n",
    "        self.url = \"https://www.wikijournalclub.org\" + link.attrs[\"href\"]\n",
    "        self.soup_link = link\n",
    "        self.title, self.short_desc = link.parent.text.split(\":\")\n",
    "        self.short_desc = self.short_desc.strip()\n",
    "        self.get_sections()\n",
    "        self.get_categories()\n",
    "        \n",
    "    def __repr__(self):\n",
    "        s = self.title + \":\\n\"\n",
    "        s += \"  -\" + self.short_desc + \"\\n\"\n",
    "        s += \"  Bottom Line:\\n\\t\" + self.bottom_line.text\n",
    "        return s\n",
    "    \n",
    "    def get_sections(self):\n",
    "        response = requests.get(self.url)\n",
    "        self.page_soup = BeautifulSoup(response.text, 'html.parser')\n",
    "        self.sections = [Section(section) for section in self.page_soup.find_all(\"span\", class_=\"mw-headline\")]\n",
    "        self.section_titles, new_sections = [], []\n",
    "        for section in self.sections:\n",
    "            if not isinstance(section.info, bs4.element.Tag):\n",
    "                continue\n",
    "            section_title = section.title.lower().strip().replace(\" \", \"_\").replace(\"outcomes\", \"outcome\")\n",
    "            section.info.html_text = process_section_html_text(section.info)\n",
    "            vars(self)[section_title] = section.info\n",
    "            self.section_titles.append(section_title)\n",
    "            new_sections.append(section)\n",
    "        self.sections = new_sections\n",
    "\n",
    "    def get_categories(self):\n",
    "        self.tags = []\n",
    "        self.categories = []\n",
    "        for page_link in self.page_soup.find_all(\"a\", href=True):\n",
    "            if \"title\" in page_link.attrs and \"Category\" in page_link.attrs[\"title\"]:\n",
    "                tag = page_link.text.strip().lower().replace(\" \", \"_\")\n",
    "                if any(token in tag for token in TAG_EXCLUDE_TOKENS):\n",
    "                    continue\n",
    "                self.categories.append(page_link.text.strip())\n",
    "                self.tags.append(\"WJC_clinical_trials::\" + tag)\n",
    "        self.categories = \", \".join(self.categories)"
   ]
  },
  {
   "cell_type": "code",
   "execution_count": 5,
   "id": "108f0231",
   "metadata": {},
   "outputs": [],
   "source": [
    "def get_valid_unique_links(links):\n",
    "    new_links = []\n",
    "    trial_names = []\n",
    "\n",
    "    for link in links:\n",
    "        if \"/wiki/\" in link.attrs[\"href\"] and list(link.attrs.keys()) == [\"href\", \"title\"]:\n",
    "            if \"WikiJournalClub\" in link.attrs[\"href\"] or \"Usable_articles\" in link.attrs[\"href\"]:\n",
    "                continue\n",
    "\n",
    "            trial_name = link.attrs[\"title\"]\n",
    "            if trial_name in trial_names:\n",
    "                continue\n",
    "\n",
    "            trial_names.append(trial_name)\n",
    "            new_links.append(link)\n",
    "    return new_links"
   ]
  },
  {
   "cell_type": "code",
   "execution_count": 6,
   "id": "c68efd86",
   "metadata": {},
   "outputs": [],
   "source": [
    "def get_trials():\n",
    "    response = requests.get(WIKI_JOURNAL_TRIAL_LIST_URL)\n",
    "    soup = BeautifulSoup(response.text, 'html.parser')\n",
    "    links = get_valid_unique_links(soup.find_all(\"a\", href=True))\n",
    "    trials = []\n",
    "    failed_links = []\n",
    "    i = 0\n",
    "\n",
    "    for link in tqdm(links, desc=\"Scraping clinical trials\", unit=\" Trials\"):\n",
    "        try:\n",
    "            if \"/wiki/\" in link.attrs[\"href\"] and list(link.attrs.keys()) == [\"href\", \"title\"]:\n",
    "                if \"WikiJournalClub\" in link.attrs[\"href\"] or \"Usable_articles\" in link.attrs[\"href\"]:\n",
    "                    continue\n",
    "                trials.append(Trial(link))\n",
    "        except:\n",
    "            failed_links.append(link)\n",
    "    return trials, failed_links"
   ]
  },
  {
   "cell_type": "code",
   "execution_count": 7,
   "id": "bce1b2ba",
   "metadata": {},
   "outputs": [],
   "source": [
    "overwrite = False"
   ]
  },
  {
   "cell_type": "code",
   "execution_count": null,
   "id": "da69056c",
   "metadata": {},
   "outputs": [],
   "source": []
  },
  {
   "cell_type": "code",
   "execution_count": 8,
   "id": "a9a3d0d7",
   "metadata": {},
   "outputs": [
    {
     "ename": "EOFError",
     "evalue": "Ran out of input",
     "output_type": "error",
     "traceback": [
      "\u001b[0;31m---------------------------------------------------------------------------\u001b[0m",
      "\u001b[0;31mEOFError\u001b[0m                                  Traceback (most recent call last)",
      "Cell \u001b[0;32mIn[8], line 6\u001b[0m\n\u001b[1;32m      4\u001b[0m \u001b[38;5;28;01melse\u001b[39;00m:\n\u001b[1;32m      5\u001b[0m     \u001b[38;5;28;01mwith\u001b[39;00m \u001b[38;5;28mopen\u001b[39m(\u001b[38;5;124m\"\u001b[39m\u001b[38;5;124mdata/WJC_trials.pkl\u001b[39m\u001b[38;5;124m\"\u001b[39m, \u001b[38;5;124m\"\u001b[39m\u001b[38;5;124mrb\u001b[39m\u001b[38;5;124m\"\u001b[39m) \u001b[38;5;28;01mas\u001b[39;00m file:\n\u001b[0;32m----> 6\u001b[0m         trials \u001b[38;5;241m=\u001b[39m \u001b[43mpickle\u001b[49m\u001b[38;5;241;43m.\u001b[39;49m\u001b[43mload\u001b[49m\u001b[43m(\u001b[49m\u001b[43mfile\u001b[49m\u001b[43m)\u001b[49m\n",
      "File \u001b[0;32m~/miniconda3/envs/py38/lib/python3.8/site-packages/dill/_dill.py:373\u001b[0m, in \u001b[0;36mload\u001b[0;34m(file, ignore, **kwds)\u001b[0m\n\u001b[1;32m    367\u001b[0m \u001b[38;5;28;01mdef\u001b[39;00m \u001b[38;5;21mload\u001b[39m(file, ignore\u001b[38;5;241m=\u001b[39m\u001b[38;5;28;01mNone\u001b[39;00m, \u001b[38;5;241m*\u001b[39m\u001b[38;5;241m*\u001b[39mkwds):\n\u001b[1;32m    368\u001b[0m \u001b[38;5;250m    \u001b[39m\u001b[38;5;124;03m\"\"\"\u001b[39;00m\n\u001b[1;32m    369\u001b[0m \u001b[38;5;124;03m    Unpickle an object from a file.\u001b[39;00m\n\u001b[1;32m    370\u001b[0m \n\u001b[1;32m    371\u001b[0m \u001b[38;5;124;03m    See :func:`loads` for keyword arguments.\u001b[39;00m\n\u001b[1;32m    372\u001b[0m \u001b[38;5;124;03m    \"\"\"\u001b[39;00m\n\u001b[0;32m--> 373\u001b[0m     \u001b[38;5;28;01mreturn\u001b[39;00m \u001b[43mUnpickler\u001b[49m\u001b[43m(\u001b[49m\u001b[43mfile\u001b[49m\u001b[43m,\u001b[49m\u001b[43m \u001b[49m\u001b[43mignore\u001b[49m\u001b[38;5;241;43m=\u001b[39;49m\u001b[43mignore\u001b[49m\u001b[43m,\u001b[49m\u001b[43m \u001b[49m\u001b[38;5;241;43m*\u001b[39;49m\u001b[38;5;241;43m*\u001b[39;49m\u001b[43mkwds\u001b[49m\u001b[43m)\u001b[49m\u001b[38;5;241;43m.\u001b[39;49m\u001b[43mload\u001b[49m\u001b[43m(\u001b[49m\u001b[43m)\u001b[49m\n",
      "File \u001b[0;32m~/miniconda3/envs/py38/lib/python3.8/site-packages/dill/_dill.py:646\u001b[0m, in \u001b[0;36mUnpickler.load\u001b[0;34m(self)\u001b[0m\n\u001b[1;32m    645\u001b[0m \u001b[38;5;28;01mdef\u001b[39;00m \u001b[38;5;21mload\u001b[39m(\u001b[38;5;28mself\u001b[39m): \u001b[38;5;66;03m#NOTE: if settings change, need to update attributes\u001b[39;00m\n\u001b[0;32m--> 646\u001b[0m     obj \u001b[38;5;241m=\u001b[39m \u001b[43mStockUnpickler\u001b[49m\u001b[38;5;241;43m.\u001b[39;49m\u001b[43mload\u001b[49m\u001b[43m(\u001b[49m\u001b[38;5;28;43mself\u001b[39;49m\u001b[43m)\u001b[49m\n\u001b[1;32m    647\u001b[0m     \u001b[38;5;28;01mif\u001b[39;00m \u001b[38;5;28mtype\u001b[39m(obj)\u001b[38;5;241m.\u001b[39m\u001b[38;5;18m__module__\u001b[39m \u001b[38;5;241m==\u001b[39m \u001b[38;5;28mgetattr\u001b[39m(_main_module, \u001b[38;5;124m'\u001b[39m\u001b[38;5;124m__name__\u001b[39m\u001b[38;5;124m'\u001b[39m, \u001b[38;5;124m'\u001b[39m\u001b[38;5;124m__main__\u001b[39m\u001b[38;5;124m'\u001b[39m):\n\u001b[1;32m    648\u001b[0m         \u001b[38;5;28;01mif\u001b[39;00m \u001b[38;5;129;01mnot\u001b[39;00m \u001b[38;5;28mself\u001b[39m\u001b[38;5;241m.\u001b[39m_ignore:\n\u001b[1;32m    649\u001b[0m             \u001b[38;5;66;03m# point obj class to main\u001b[39;00m\n",
      "\u001b[0;31mEOFError\u001b[0m: Ran out of input"
     ]
    }
   ],
   "source": [
    "if overwrite:\n",
    "    with open(\"data/WJC_trials.pkl\", \"wb\") as file:\n",
    "        pickle.dump(trials, file)\n",
    "else:\n",
    "    with open(\"data/WJC_trials.pkl\", \"rb\") as file:\n",
    "        trials = pickle.load(file)\n"
   ]
  },
  {
   "cell_type": "code",
   "execution_count": 15,
   "id": "80374a12",
   "metadata": {},
   "outputs": [
    {
     "data": {
      "application/vnd.jupyter.widget-view+json": {
       "model_id": "0d3cda33da10428db9534e051fe02083",
       "version_major": 2,
       "version_minor": 0
      },
      "text/plain": [
       "Scraping clinical trials:   0%|          | 0/491 [00:00<?, ? Trials/s]"
      ]
     },
     "metadata": {},
     "output_type": "display_data"
    }
   ],
   "source": [
    "trials, failed_links = get_trials()"
   ]
  },
  {
   "cell_type": "markdown",
   "id": "06dbc778",
   "metadata": {},
   "source": [
    "# Clean Trial Information"
   ]
  },
  {
   "cell_type": "code",
   "execution_count": 18,
   "id": "27c5e052",
   "metadata": {},
   "outputs": [],
   "source": [
    "class SectionSwap:\n",
    "    def __init__(self, html_text = \"None listed\"):\n",
    "        if html_text == \"\":\n",
    "            html_text = \"None listed\"\n",
    "        self.html_text = html_text\n",
    "        self.contents = [html_text]"
   ]
  },
  {
   "cell_type": "code",
   "execution_count": 19,
   "id": "5e428b99",
   "metadata": {},
   "outputs": [],
   "source": [
    "SECONDARY_OUTCOME_ALTERNATES = [\"additional_outcome\", \"other_outcome\",\n",
    "                                \"secondary_outcome_at_12_months\",\n",
    "                                \"secondary_outcome_at_3_months\",\n",
    "                                \"secondary_outcome_at_3_years\"]\n",
    "\n",
    "PRIMARY_OUTCOME_ALTERNATES = [\"outcome\"]\n",
    "def swap_alternate_section(trial, variable = \"primary_outcome\", alternates = [\"outcome\"]):\n",
    "    \"\"\"\"\"\"\n",
    "    if variable in vars(trial):\n",
    "        return trial\n",
    "\n",
    "    alternate_text = \"\"\n",
    "    for alt in alternates:\n",
    "        if alt in vars(trial):\n",
    "            alternate_text += process_section_html_text(vars(trial)[alt])\n",
    "            del vars(trial)[alt]\n",
    "    \n",
    "    vars(trial)[variable] = SectionSwap(alternate_text)\n",
    "    print(trial.title)\n",
    "    return trial"
   ]
  },
  {
   "cell_type": "code",
   "execution_count": 20,
   "id": "871810a0",
   "metadata": {},
   "outputs": [
    {
     "data": {
      "application/vnd.jupyter.widget-view+json": {
       "model_id": "588194c1e8584a92b1720a96f1876a10",
       "version_major": 2,
       "version_minor": 0
      },
      "text/plain": [
       "  0%|          | 0/491 [00:00<?, ?it/s]"
      ]
     },
     "metadata": {},
     "output_type": "display_data"
    },
    {
     "name": "stdout",
     "output_type": "stream",
     "text": [
      "CAST I (1991)\n",
      "EPHESUS (2003)\n",
      "SADHART (2002)\n",
      "SAVE (1992)\n",
      "SHOCK (1999)\n",
      "VA Cooperative Study (1983)\n",
      "RACE II (2010)\n",
      "WOSCOPS (1995)\n",
      "ASCEND (Aspirin) (2018)\n",
      "COPERNICUS (2002)\n",
      "DIG (1997)\n",
      "MERIT-HF (1999)\n",
      "RALES (1999)\n",
      "SCD-HeFT (2005)\n",
      "SCD-HeFT (2005)\n",
      "SOLVD (1991)\n",
      "PATHWAY-2 (2015)\n",
      "TONE (1998)\n",
      "AIRTRIP (2016)\n",
      "Yang-Tobin Study (1991)\n",
      "Yang-Tobin Study (1991)\n",
      "GI bleeding in ICU patients (1994)\n",
      "PneumA (2003)\n",
      "NINDS (1995)\n",
      "Canadian CT Head Rule (2001)\n",
      "Canadian CT Head Rule (2001)\n",
      "DCCT (1993)\n",
      "DCCT (1993)\n",
      "STAMPEDE (2012)\n",
      "STOP-NIDDM (2002)\n",
      "UKPDS 33 (1998)\n",
      "Pentoxifylline in Severe Alcoholic Hepatitis (2000)\n",
      "Pentoxifylline in Severe Alcoholic Hepatitis (2000)\n",
      "Omeprazole in Peptic Ulcer Bleeding (2000)\n",
      "EINSTEIN CHOICE (2017)\n",
      "Lo-Coco 2013 (2013)\n",
      "Ibrutinib in Waldenstrom macroglobulinemia (2015)\n",
      "PIOPED II (2006)\n",
      "PIOPED II (2006)\n",
      "MSH (1995)\n",
      "ASPEN (2020)\n",
      "APPAC (2015)\n",
      "POET (2019)\n",
      "IPrEx (2010)\n",
      "NA-ACCORD (2009)\n",
      "European Dexamethasone Study (2002)\n",
      "ALMS (2009)\n",
      "NASCET (1998)\n",
      "Veterans Affairs Status Epilepticus Cooperative Study Group (1998)\n",
      "EMILIA (2012)\n",
      "NSABP P-1 (1998)\n",
      "CheckMate-003 (2012)\n",
      "ERSPC (2009)\n",
      "SWOG 8949 (2001)\n",
      "Symptom-Triggered Benzodiazepines in Alcohol Withdrawal (2002)\n",
      "Symptom-Triggered Benzodiazepines in Alcohol Withdrawal (2002)\n",
      "CATIE-AD (2006)\n"
     ]
    }
   ],
   "source": [
    "missing_trials = []\n",
    "for i, trial in enumerate(tqdm(trials)):\n",
    "    swap_alternate_section(trial, \"primary_outcome\", PRIMARY_OUTCOME_ALTERNATES)\n",
    "    swap_alternate_section(trial, \"secondary_outcome\", SECONDARY_OUTCOME_ALTERNATES)\n",
    "    swap_alternate_section(trial, \"criticisms\", \"criticism\")"
   ]
  },
  {
   "cell_type": "markdown",
   "id": "7549fead",
   "metadata": {},
   "source": [
    "# Anki Cards"
   ]
  },
  {
   "cell_type": "code",
   "execution_count": 21,
   "id": "6ee16a4f",
   "metadata": {},
   "outputs": [],
   "source": [
    "import genanki\n",
    "from cached_property import cached_property\n",
    "import re\n",
    "import genanki as ga\n",
    "\n",
    "import os\n",
    "\n",
    "class ModelX(genanki.Model):\n",
    "    def __init__(self, model_id=None, name=None, fields=None, templates=None, css='', type=0):\n",
    "        super().__init__(model_id, name, fields, templates, css)\n",
    "        self._type = type\n",
    "\n",
    "    def to_json(self, now_ts, deck_id):\n",
    "        j = super().to_json(now_ts, deck_id)\n",
    "        j[\"type\"] = self._type\n",
    "        return j\n",
    "\n",
    "class NoteX(genanki.Note):\n",
    "    def _cloze_cards(self):\n",
    "        \"\"\"\n",
    "        returns a Card with unique ord for each unique cloze reference\n",
    "        \"\"\"\n",
    "        card_ords = set()\n",
    "        # find cloze replacements in first template's qfmt, e.g \"{{cloze::Text}}\"\n",
    "        cloze_replacements = set(re.findall(\"{{[^}]*?cloze:(?:[^}]?:)*(.+?)}}\", self.model.templates[0]['qfmt']) +\n",
    "                                 re.findall(\"<%cloze:(.+?)%>\", self.model.templates[0]['qfmt']))\n",
    "        for field_name in cloze_replacements:\n",
    "          field_index = next((i for i, f in enumerate(self.model.fields) if f['name'] == field_name), -1)\n",
    "          field_value = self.fields[field_index] if field_index >= 0 else \"\"\n",
    "          # update card_ords with each cloze reference N, e.g. \"{{cN::...}}\"\n",
    "          card_ords.update([int(m)-1 for m in re.findall(\"{{c(\\d+)::.+?}}\", field_value) if int(m) > 0])\n",
    "\n",
    "        if card_ords == {}:\n",
    "            card_ords = {0}\n",
    "\n",
    "        return([genanki.Card(ord) for ord in card_ords])\n",
    "\n",
    "    @cached_property\n",
    "    def cards(self):\n",
    "        if self.model._type == 1:\n",
    "            return self._cloze_cards()\n",
    "        else:\n",
    "            return super().cards\n"
   ]
  },
  {
   "cell_type": "code",
   "execution_count": 52,
   "id": "81fe2c7b",
   "metadata": {},
   "outputs": [],
   "source": [
    "def create_qfmt(content):\n",
    "    return content + constants.ANKING_QFMT_APPEND\n",
    "\n",
    "def create_afmt(content):\n",
    "    return content + constants.ANKING_AFMT_APPEND"
   ]
  },
  {
   "cell_type": "code",
   "execution_count": 58,
   "id": "678b6026",
   "metadata": {},
   "outputs": [],
   "source": [
    "AFMT = \"\"\"\n",
    "<b>{{TRIAL_NAME}}</b>\n",
    "<br>\n",
    "<br>\n",
    "<i>Bottom Line:</i>\n",
    "<br>\n",
    "{{bottom_line}}\n",
    "<br><br>\n",
    "\n",
    "\n",
    "<button type=\"button\" class=\"collapsible\"></b>Click for more info:</b></button>\n",
    "<div class=\"content\">\n",
    "<br><br>\n",
    "<i>Wiki Journal Club Link:   </i> <a href=\"{{URL}}\"> {{TRIAL_NAME}} Website </a>\n",
    "<br><br>\n",
    "<b> Categories:</b>  {{CATEGORIES}}\n",
    "<br><hr><br>\n",
    "<i>Primary Endpoint:</i>\n",
    "<br>\n",
    "{{primary_outcome}}\n",
    "<br><hr><br>\n",
    "<i>Interventions:</i>\n",
    "<br>\n",
    "{{interventions}}\n",
    "<br><hr><br>\n",
    "<i>Secondary Outcomes:</i>\n",
    "<br>\n",
    "{{secondary_outcomes}}\n",
    "<br><hr><br>\n",
    "<i>Criticisms:</i>\n",
    "<br>\n",
    "{{criticisms}}\n",
    "</div>\n",
    "\n",
    "\n",
    "<style>\n",
    ".collapsible {\n",
    "  background-color: #424242;\n",
    "  color: #C695C6;\n",
    "  cursor: arrow;\n",
    "  padding: 1rem;\n",
    "  width: 20%;\n",
    "  height: 1rem\n",
    "  border: none;\n",
    "  text-align: center;\n",
    "  outline: none;\n",
    "  font-size: 2rem;\n",
    "}\n",
    "\n",
    ".active, .collapsible:hover {\n",
    "  background-color: #424242;\n",
    "}\n",
    "\n",
    ".content {\n",
    "  padding: 1rem;\n",
    "  display: none;\n",
    "  overflow: hidden;\n",
    "  background-color: #333B45;\n",
    "  font-size: .75rem;\n",
    "}\n",
    "</style>\n",
    "</head>\n",
    "\n",
    "<script>\n",
    "var coll = document.getElementsByClassName(\"collapsible\");\n",
    "var i;\n",
    "\n",
    "for (i = 0; i < coll.length; i++) {\n",
    "  coll[i].addEventListener(\"click\", function() {\n",
    "    this.classList.toggle(\"active\");\n",
    "    var content = this.nextElementSibling;\n",
    "    if (content.style.display === \"block\") {\n",
    "      content.style.display = \"none\";\n",
    "    } else {\n",
    "      content.style.display = \"block\";\n",
    "    }\n",
    "  });\n",
    "}\n",
    "</script>\n",
    "\n",
    "\n",
    "\"\"\""
   ]
  },
  {
   "cell_type": "code",
   "execution_count": 59,
   "id": "66101969",
   "metadata": {},
   "outputs": [],
   "source": [
    "templates = [{'name': 'Card 1',\n",
    "              'qfmt': create_qfmt(\"<b>{{TRIAL_NAME}}</b><br><br><u>[ ... ]</u>\"),\n",
    "              'afmt': create_afmt(AFMT),\n",
    "            }]\n",
    "\n",
    "fields = [{\"name\": \"TRIAL_NAME\"}, {\"name\": \"primary_outcome\"},\n",
    "          {\"name\": \"bottom_line\"}, {\"name\": \"URL\"}, {\"name\": \"interventions\"},\n",
    "          {\"name\": \"secondary_outcomes\"}, {\"name\": \"criticisms\"}, {\"name\": \"CATEGORIES\"}]\n",
    "\n",
    "trial_cards_model = ModelX(1371313, \"show_teach_trial_model\", fields=fields, templates=templates,\n",
    "                           css=constants.ANKING_CSS)"
   ]
  },
  {
   "cell_type": "markdown",
   "id": "d92a45bd",
   "metadata": {},
   "source": [
    "# Build Deck"
   ]
  },
  {
   "cell_type": "code",
   "execution_count": 60,
   "id": "9aeaa907",
   "metadata": {},
   "outputs": [],
   "source": [
    "from collections import defaultdict\n",
    "sub_deck_trials = defaultdict(lambda: [])\n",
    "tags = []\n",
    "for trial in trials:\n",
    "    tags += trial.tags\n",
    "    sub_deck_trials[trial.tags[0]].append(trial)"
   ]
  },
  {
   "cell_type": "code",
   "execution_count": 61,
   "id": "2a4affd9",
   "metadata": {},
   "outputs": [],
   "source": [
    "package_decks = []\n",
    "\n",
    "sub_deck_counter = 13713131\n",
    "for sub_deck_name, sub_deck_trial_set in sub_deck_trials.items():\n",
    "    sub_deck = ga.Deck(sub_deck_counter, f'{sub_deck_name}')\n",
    "    \n",
    "    for trial in sub_deck_trial_set:    \n",
    "        note = NoteX(model=trial_cards_model,\n",
    "                     fields=[f\"{trial.title} Trial:\\n\",\n",
    "                             trial.primary_outcome.html_text,\n",
    "                             trial.bottom_line.html_text,\n",
    "                             trial.url, trial.interventions.html_text, trial.secondary_outcome.html_text,\n",
    "                             trial.criticisms.html_text, trial.categories], tags=trial.tags)\n",
    "        sub_deck.add_note(note)\n",
    "    package_decks.append(sub_deck)\n",
    "    sub_deck_counter += 1"
   ]
  },
  {
   "cell_type": "code",
   "execution_count": 62,
   "id": "26d3a4a3",
   "metadata": {},
   "outputs": [],
   "source": [
    "package = genanki.Package(package_decks)\n",
    "package.write_to_file(\"WJC_clinical_trials.apkg\")"
   ]
  },
  {
   "cell_type": "code",
   "execution_count": null,
   "id": "4aa29a83",
   "metadata": {},
   "outputs": [],
   "source": []
  },
  {
   "cell_type": "code",
   "execution_count": null,
   "id": "f62fc6a0",
   "metadata": {},
   "outputs": [],
   "source": []
  },
  {
   "cell_type": "code",
   "execution_count": null,
   "id": "d54b33d0",
   "metadata": {},
   "outputs": [],
   "source": []
  },
  {
   "cell_type": "code",
   "execution_count": null,
   "id": "8fc2da98",
   "metadata": {},
   "outputs": [],
   "source": []
  },
  {
   "cell_type": "code",
   "execution_count": null,
   "id": "14e12a53",
   "metadata": {},
   "outputs": [],
   "source": []
  }
 ],
 "metadata": {
  "kernelspec": {
   "display_name": "Python 3 (ipykernel)",
   "language": "python",
   "name": "python3"
  },
  "language_info": {
   "codemirror_mode": {
    "name": "ipython",
    "version": 3
   },
   "file_extension": ".py",
   "mimetype": "text/x-python",
   "name": "python",
   "nbconvert_exporter": "python",
   "pygments_lexer": "ipython3",
   "version": "3.8.17"
  }
 },
 "nbformat": 4,
 "nbformat_minor": 5
}
