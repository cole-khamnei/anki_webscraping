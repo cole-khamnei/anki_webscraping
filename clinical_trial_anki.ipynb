{
 "cells": [
  {
   "cell_type": "code",
   "execution_count": 1,
   "id": "c6fd9042",
   "metadata": {},
   "outputs": [],
   "source": [
    "%load_ext autoreload\n",
    "%autoreload 2\n",
    "\n",
    "import genanki\n",
    "import webscrape as ws\n",
    "import anki_utils as au"
   ]
  },
  {
   "cell_type": "code",
   "execution_count": 2,
   "id": "c9ba3871",
   "metadata": {},
   "outputs": [],
   "source": [
    "import requests\n",
    "from bs4 import BeautifulSoup\n",
    "\n",
    "from tqdm.notebook import tqdm"
   ]
  },
  {
   "cell_type": "code",
   "execution_count": 3,
   "id": "a7934baf",
   "metadata": {},
   "outputs": [],
   "source": [
    "WIKI_JOURNAL_TRIAL_LIST_URL = \"https://www.wikijournalclub.org/wiki/WikiJournalClub:Usable_articles\""
   ]
  },
  {
   "cell_type": "code",
   "execution_count": 4,
   "id": "d1311363",
   "metadata": {},
   "outputs": [],
   "source": [
    "class Section:\n",
    "    def __init__(self, section_header):\n",
    "        self.header = section_header\n",
    "        self.info = section_header.next_element.next_element.next_element\n",
    "        self.title = section_header.next_element\n",
    "    \n",
    "    def __repr__(self):\n",
    "        return self.title.text.strip() + \"\\n\" + self.info.text\n",
    "\n",
    "\n",
    "class Trial:\n",
    "    def __init__(self, link):\n",
    "        self.url = \"https://www.wikijournalclub.org\" + link.attrs[\"href\"]\n",
    "        self.soup_link = link\n",
    "        self.title, self.short_desc = link.parent.text.split(\":\")\n",
    "        self.short_desc = self.short_desc.strip()\n",
    "        self.get_sections()\n",
    "        self.get_categories()\n",
    "        \n",
    "    def __repr__(self):\n",
    "        s = self.title + \":\\n\"\n",
    "        s += \"  -\" + self.short_desc + \"\\n\"\n",
    "        s += \"  Bottom Line:\\n\\t\" + self.bottom_line.text\n",
    "        return s\n",
    "    \n",
    "    def get_sections(self):\n",
    "        response = requests.get(self.url)\n",
    "        self.page_soup = BeautifulSoup(response.text, 'html.parser')\n",
    "        self.sections = [Section(section) for section in self.page_soup.find_all(\"span\", class_=\"mw-headline\")]\n",
    "        for section in self.sections:\n",
    "            section_title = section.title.lower().strip().replace(\" \", \"_\").replace(\"outcomes\", \"outcome\")\n",
    "            vars(self)[section_title] = section.info\n",
    "    \n",
    "    def get_categories(self):\n",
    "        self.tags = []\n",
    "        for page_link in self.page_soup.find_all(\"a\", href=True):\n",
    "            if \"title\" in page_link.attrs and \"Category\" in page_link.attrs[\"title\"] and \"Usable\" not in page_link.text:\n",
    "                self.tags.append(page_link.text.strip().lower().replace(\" \", \"_\"))"
   ]
  },
  {
   "cell_type": "code",
   "execution_count": 5,
   "id": "c68efd86",
   "metadata": {},
   "outputs": [],
   "source": [
    "def get_trials():\n",
    "    response = requests.get(WIKI_JOURNAL_TRIAL_LIST_URL)\n",
    "    soup = BeautifulSoup(response.text, 'html.parser')\n",
    "    links = soup.find_all(\"a\", href=True)\n",
    "    trials = []\n",
    "    i = 0\n",
    "    for link in tqdm(links, desc=\"Scraping clinical trials\", unit=\" Trials\"):\n",
    "        if \"/wiki/\" in link.attrs[\"href\"] and list(link.attrs.keys()) == [\"href\", \"title\"]:\n",
    "            if \"WikiJournalClub\" in link.attrs[\"href\"] or \"Usable_articles\" in link.attrs[\"href\"]:\n",
    "                continue\n",
    "            trials.append(Trial(link))\n",
    "            i += 1\n",
    "            if i > 10:\n",
    "                break\n",
    "            \n",
    "    return trials"
   ]
  },
  {
   "cell_type": "code",
   "execution_count": 6,
   "id": "80374a12",
   "metadata": {},
   "outputs": [
    {
     "data": {
      "application/vnd.jupyter.widget-view+json": {
       "model_id": "79dc89f67cca49adad06cb613ca84ec6",
       "version_major": 2,
       "version_minor": 0
      },
      "text/plain": [
       "Scraping clinical trials:   0%|          | 0/1138 [00:00<?, ? Trials/s]"
      ]
     },
     "metadata": {},
     "output_type": "display_data"
    }
   ],
   "source": [
    "trials = get_trials()"
   ]
  },
  {
   "cell_type": "code",
   "execution_count": 7,
   "id": "240ced28",
   "metadata": {},
   "outputs": [],
   "source": [
    "trial = trials[0]"
   ]
  },
  {
   "cell_type": "markdown",
   "id": "7549fead",
   "metadata": {},
   "source": [
    "# Anki Cards"
   ]
  },
  {
   "cell_type": "code",
   "execution_count": 9,
   "id": "6ee16a4f",
   "metadata": {},
   "outputs": [],
   "source": [
    "import genanki\n",
    "from cached_property import cached_property\n",
    "import re\n",
    "import genanki as ga\n",
    "\n",
    "import os\n",
    "\n",
    "class ModelX(genanki.Model):\n",
    "    def __init__(self, model_id=None, name=None, fields=None, templates=None, css='', type=0):\n",
    "        super().__init__(model_id, name, fields, templates, css)\n",
    "        self._type = type\n",
    "\n",
    "    def to_json(self, now_ts, deck_id):\n",
    "        j = super().to_json(now_ts, deck_id)\n",
    "        j[\"type\"] = self._type\n",
    "        return j\n",
    "\n",
    "class NoteX(genanki.Note):\n",
    "    def _cloze_cards(self):\n",
    "        \"\"\"\n",
    "        returns a Card with unique ord for each unique cloze reference\n",
    "        \"\"\"\n",
    "        card_ords = set()\n",
    "        # find cloze replacements in first template's qfmt, e.g \"{{cloze::Text}}\"\n",
    "        cloze_replacements = set(re.findall(\"{{[^}]*?cloze:(?:[^}]?:)*(.+?)}}\", self.model.templates[0]['qfmt']) +\n",
    "                                 re.findall(\"<%cloze:(.+?)%>\", self.model.templates[0]['qfmt']))\n",
    "        for field_name in cloze_replacements:\n",
    "          field_index = next((i for i, f in enumerate(self.model.fields) if f['name'] == field_name), -1)\n",
    "          field_value = self.fields[field_index] if field_index >= 0 else \"\"\n",
    "          # update card_ords with each cloze reference N, e.g. \"{{cN::...}}\"\n",
    "          card_ords.update([int(m)-1 for m in re.findall(\"{{c(\\d+)::.+?}}\", field_value) if int(m) > 0])\n",
    "\n",
    "        if card_ords == {}:\n",
    "            card_ords = {0}\n",
    "\n",
    "        return([genanki.Card(ord) for ord in card_ords])\n",
    "\n",
    "    @cached_property\n",
    "    def cards(self):\n",
    "        if self.model._type == 1:\n",
    "            return self._cloze_cards()\n",
    "        else:\n",
    "            return super().cards\n"
   ]
  },
  {
   "cell_type": "code",
   "execution_count": 49,
   "id": "89b018e8",
   "metadata": {},
   "outputs": [],
   "source": [
    "import constants"
   ]
  },
  {
   "cell_type": "code",
   "execution_count": 57,
   "id": "81fe2c7b",
   "metadata": {},
   "outputs": [],
   "source": [
    "def create_qfmt(content):\n",
    "    return content + constants.ANKING_QFMT_APPEND\n",
    "\n",
    "def create_afmt(content):\n",
    "    return content + constants.ANKING_AFMT_APPEND"
   ]
  },
  {
   "cell_type": "code",
   "execution_count": 66,
   "id": "66101969",
   "metadata": {},
   "outputs": [],
   "source": [
    "templates = [{'name': 'Card 1',\n",
    "              'qfmt': create_qfmt(\"{{TRIAL_NAME}}<br>{{cloze::Question}}<br>\"),\n",
    "              'afmt': create_afmt('{{TRIAL_NAME}}<br>{{primary_outcome}}<br>{{bottom_line}}<br>'),\n",
    "            }]\n",
    "\n",
    "fields = [{\"name\": \"TRIAL_NAME\"}, {\"name\", \"Question\"}, {\"name\": \"primary_outcome\"},\n",
    "          {\"name\": \"bottom_line\"}]\n",
    "\n",
    "trial_cards_model = ModelX(1371313, \"show_teach_trial_model\", fields=fields, templates=templates, css=CSS)"
   ]
  },
  {
   "cell_type": "code",
   "execution_count": 71,
   "id": "2fdaf572",
   "metadata": {},
   "outputs": [
    {
     "data": {
      "application/vnd.jupyter.widget-view+json": {
       "model_id": "858013041f7a490886307609d96664a6",
       "version_major": 2,
       "version_minor": 0
      },
      "text/plain": [
       "Creating Cards:   0%|          | 0/11 [00:00<?, ? Cards/s]"
      ]
     },
     "metadata": {},
     "output_type": "display_data"
    }
   ],
   "source": [
    "trial_deck = ga.Deck(13713131, 'clinical_trials')\n",
    "\n",
    "model = trial_cards_model\n",
    "deck = trial_deck\n",
    "media_files = []\n",
    "\n",
    "names = {}\n",
    "\n",
    "for i, trial in tqdm(enumerate(trials), desc=\"Creating Cards\", unit=\" Cards\", total=len(trials)):\n",
    "    if trial.title in names:\n",
    "        names[trial.title] += 1\n",
    "#         trial.title = trial.title + f\"_{names[trial.title]}\"\n",
    "    else:\n",
    "        names[trial.title] = 1\n",
    "    trial.save_name = f\"{i:0003}_\" + trial.title.lower().replace(\" \", \"_\").replace(\"/\", \"_\")\n",
    "    note = NoteX(model=trial_cards_model,\n",
    "                   fields=[f\"{trial.title} Trial:\\n\",\n",
    "                           f\"question {{c1::{trial.title}}}\",\n",
    "                           trial.primary_outcome.text,\n",
    "                           trial.bottom_line.text],\n",
    "                  tags=trial.tags)\n",
    "    deck.add_note(note)"
   ]
  },
  {
   "cell_type": "code",
   "execution_count": 72,
   "id": "ec72b0b5",
   "metadata": {},
   "outputs": [
    {
     "ename": "TypeError",
     "evalue": "'set' object does not support item assignment",
     "output_type": "error",
     "traceback": [
      "\u001b[0;31m---------------------------------------------------------------------------\u001b[0m",
      "\u001b[0;31mTypeError\u001b[0m                                 Traceback (most recent call last)",
      "Cell \u001b[0;32mIn[72], line 3\u001b[0m\n\u001b[1;32m      1\u001b[0m trial_package \u001b[38;5;241m=\u001b[39m genanki\u001b[38;5;241m.\u001b[39mPackage(trial_deck)\n\u001b[0;32m----> 3\u001b[0m \u001b[43mtrial_package\u001b[49m\u001b[38;5;241;43m.\u001b[39;49m\u001b[43mwrite_to_file\u001b[49m\u001b[43m(\u001b[49m\u001b[38;5;124;43m'\u001b[39;49m\u001b[38;5;124;43mclinical_trials.apkg\u001b[39;49m\u001b[38;5;124;43m'\u001b[39;49m\u001b[43m)\u001b[49m\n",
      "File \u001b[0;32m~/miniconda3/envs/py38/lib/python3.8/site-packages/genanki/package.py:40\u001b[0m, in \u001b[0;36mPackage.write_to_file\u001b[0;34m(self, file, timestamp)\u001b[0m\n\u001b[1;32m     37\u001b[0m   timestamp \u001b[38;5;241m=\u001b[39m time\u001b[38;5;241m.\u001b[39mtime()\n\u001b[1;32m     39\u001b[0m id_gen \u001b[38;5;241m=\u001b[39m itertools\u001b[38;5;241m.\u001b[39mcount(\u001b[38;5;28mint\u001b[39m(timestamp \u001b[38;5;241m*\u001b[39m \u001b[38;5;241m1000\u001b[39m))\n\u001b[0;32m---> 40\u001b[0m \u001b[38;5;28;43mself\u001b[39;49m\u001b[38;5;241;43m.\u001b[39;49m\u001b[43mwrite_to_db\u001b[49m\u001b[43m(\u001b[49m\u001b[43mcursor\u001b[49m\u001b[43m,\u001b[49m\u001b[43m \u001b[49m\u001b[43mtimestamp\u001b[49m\u001b[43m,\u001b[49m\u001b[43m \u001b[49m\u001b[43mid_gen\u001b[49m\u001b[43m)\u001b[49m\n\u001b[1;32m     42\u001b[0m conn\u001b[38;5;241m.\u001b[39mcommit()\n\u001b[1;32m     43\u001b[0m conn\u001b[38;5;241m.\u001b[39mclose()\n",
      "File \u001b[0;32m~/miniconda3/envs/py38/lib/python3.8/site-packages/genanki/package.py:60\u001b[0m, in \u001b[0;36mPackage.write_to_db\u001b[0;34m(self, cursor, timestamp, id_gen)\u001b[0m\n\u001b[1;32m     57\u001b[0m cursor\u001b[38;5;241m.\u001b[39mexecutescript(APKG_COL)\n\u001b[1;32m     59\u001b[0m \u001b[38;5;28;01mfor\u001b[39;00m deck \u001b[38;5;129;01min\u001b[39;00m \u001b[38;5;28mself\u001b[39m\u001b[38;5;241m.\u001b[39mdecks:\n\u001b[0;32m---> 60\u001b[0m   \u001b[43mdeck\u001b[49m\u001b[38;5;241;43m.\u001b[39;49m\u001b[43mwrite_to_db\u001b[49m\u001b[43m(\u001b[49m\u001b[43mcursor\u001b[49m\u001b[43m,\u001b[49m\u001b[43m \u001b[49m\u001b[43mtimestamp\u001b[49m\u001b[43m,\u001b[49m\u001b[43m \u001b[49m\u001b[43mid_gen\u001b[49m\u001b[43m)\u001b[49m\n",
      "File \u001b[0;32m~/miniconda3/envs/py38/lib/python3.8/site-packages/genanki/deck.py:63\u001b[0m, in \u001b[0;36mDeck.write_to_db\u001b[0;34m(self, cursor, timestamp, id_gen)\u001b[0m\n\u001b[1;32m     60\u001b[0m \u001b[38;5;28;01mfor\u001b[39;00m note \u001b[38;5;129;01min\u001b[39;00m \u001b[38;5;28mself\u001b[39m\u001b[38;5;241m.\u001b[39mnotes:\n\u001b[1;32m     61\u001b[0m   \u001b[38;5;28mself\u001b[39m\u001b[38;5;241m.\u001b[39madd_model(note\u001b[38;5;241m.\u001b[39mmodel)\n\u001b[1;32m     62\u001b[0m models\u001b[38;5;241m.\u001b[39mupdate(\n\u001b[0;32m---> 63\u001b[0m   {model\u001b[38;5;241m.\u001b[39mmodel_id: model\u001b[38;5;241m.\u001b[39mto_json(timestamp, \u001b[38;5;28mself\u001b[39m\u001b[38;5;241m.\u001b[39mdeck_id) \u001b[38;5;28;01mfor\u001b[39;00m model \u001b[38;5;129;01min\u001b[39;00m \u001b[38;5;28mself\u001b[39m\u001b[38;5;241m.\u001b[39mmodels\u001b[38;5;241m.\u001b[39mvalues()})\n\u001b[1;32m     64\u001b[0m cursor\u001b[38;5;241m.\u001b[39mexecute(\u001b[38;5;124m'\u001b[39m\u001b[38;5;124mUPDATE col SET models = ?\u001b[39m\u001b[38;5;124m'\u001b[39m, (json\u001b[38;5;241m.\u001b[39mdumps(models),))\n\u001b[1;32m     66\u001b[0m \u001b[38;5;28;01mfor\u001b[39;00m note \u001b[38;5;129;01min\u001b[39;00m \u001b[38;5;28mself\u001b[39m\u001b[38;5;241m.\u001b[39mnotes:\n",
      "File \u001b[0;32m~/miniconda3/envs/py38/lib/python3.8/site-packages/genanki/deck.py:63\u001b[0m, in \u001b[0;36m<dictcomp>\u001b[0;34m(.0)\u001b[0m\n\u001b[1;32m     60\u001b[0m \u001b[38;5;28;01mfor\u001b[39;00m note \u001b[38;5;129;01min\u001b[39;00m \u001b[38;5;28mself\u001b[39m\u001b[38;5;241m.\u001b[39mnotes:\n\u001b[1;32m     61\u001b[0m   \u001b[38;5;28mself\u001b[39m\u001b[38;5;241m.\u001b[39madd_model(note\u001b[38;5;241m.\u001b[39mmodel)\n\u001b[1;32m     62\u001b[0m models\u001b[38;5;241m.\u001b[39mupdate(\n\u001b[0;32m---> 63\u001b[0m   {model\u001b[38;5;241m.\u001b[39mmodel_id: \u001b[43mmodel\u001b[49m\u001b[38;5;241;43m.\u001b[39;49m\u001b[43mto_json\u001b[49m\u001b[43m(\u001b[49m\u001b[43mtimestamp\u001b[49m\u001b[43m,\u001b[49m\u001b[43m \u001b[49m\u001b[38;5;28;43mself\u001b[39;49m\u001b[38;5;241;43m.\u001b[39;49m\u001b[43mdeck_id\u001b[49m\u001b[43m)\u001b[49m \u001b[38;5;28;01mfor\u001b[39;00m model \u001b[38;5;129;01min\u001b[39;00m \u001b[38;5;28mself\u001b[39m\u001b[38;5;241m.\u001b[39mmodels\u001b[38;5;241m.\u001b[39mvalues()})\n\u001b[1;32m     64\u001b[0m cursor\u001b[38;5;241m.\u001b[39mexecute(\u001b[38;5;124m'\u001b[39m\u001b[38;5;124mUPDATE col SET models = ?\u001b[39m\u001b[38;5;124m'\u001b[39m, (json\u001b[38;5;241m.\u001b[39mdumps(models),))\n\u001b[1;32m     66\u001b[0m \u001b[38;5;28;01mfor\u001b[39;00m note \u001b[38;5;129;01min\u001b[39;00m \u001b[38;5;28mself\u001b[39m\u001b[38;5;241m.\u001b[39mnotes:\n",
      "Cell \u001b[0;32mIn[9], line 14\u001b[0m, in \u001b[0;36mModelX.to_json\u001b[0;34m(self, now_ts, deck_id)\u001b[0m\n\u001b[1;32m     13\u001b[0m \u001b[38;5;28;01mdef\u001b[39;00m \u001b[38;5;21mto_json\u001b[39m(\u001b[38;5;28mself\u001b[39m, now_ts, deck_id):\n\u001b[0;32m---> 14\u001b[0m     j \u001b[38;5;241m=\u001b[39m \u001b[38;5;28;43msuper\u001b[39;49m\u001b[43m(\u001b[49m\u001b[43m)\u001b[49m\u001b[38;5;241;43m.\u001b[39;49m\u001b[43mto_json\u001b[49m\u001b[43m(\u001b[49m\u001b[43mnow_ts\u001b[49m\u001b[43m,\u001b[49m\u001b[43m \u001b[49m\u001b[43mdeck_id\u001b[49m\u001b[43m)\u001b[49m\n\u001b[1;32m     15\u001b[0m     j[\u001b[38;5;124m\"\u001b[39m\u001b[38;5;124mtype\u001b[39m\u001b[38;5;124m\"\u001b[39m] \u001b[38;5;241m=\u001b[39m \u001b[38;5;28mself\u001b[39m\u001b[38;5;241m.\u001b[39m_type\n\u001b[1;32m     16\u001b[0m     \u001b[38;5;28;01mreturn\u001b[39;00m j\n",
      "File \u001b[0;32m~/miniconda3/envs/py38/lib/python3.8/site-packages/genanki/model.py:101\u001b[0m, in \u001b[0;36mModel.to_json\u001b[0;34m(self, timestamp, deck_id)\u001b[0m\n\u001b[1;32m     98\u001b[0m   tmpl\u001b[38;5;241m.\u001b[39msetdefault(\u001b[38;5;124m'\u001b[39m\u001b[38;5;124mdid\u001b[39m\u001b[38;5;124m'\u001b[39m, \u001b[38;5;28;01mNone\u001b[39;00m)  \u001b[38;5;66;03m# TODO None works just fine here, but should it be deck_id?\u001b[39;00m\n\u001b[1;32m    100\u001b[0m \u001b[38;5;28;01mfor\u001b[39;00m ord_, field \u001b[38;5;129;01min\u001b[39;00m \u001b[38;5;28menumerate\u001b[39m(\u001b[38;5;28mself\u001b[39m\u001b[38;5;241m.\u001b[39mfields):\n\u001b[0;32m--> 101\u001b[0m   field[\u001b[38;5;124m'\u001b[39m\u001b[38;5;124mord\u001b[39m\u001b[38;5;124m'\u001b[39m] \u001b[38;5;241m=\u001b[39m ord_\n\u001b[1;32m    102\u001b[0m   field\u001b[38;5;241m.\u001b[39msetdefault(\u001b[38;5;124m'\u001b[39m\u001b[38;5;124mfont\u001b[39m\u001b[38;5;124m'\u001b[39m, \u001b[38;5;124m'\u001b[39m\u001b[38;5;124mLiberation Sans\u001b[39m\u001b[38;5;124m'\u001b[39m)\n\u001b[1;32m    103\u001b[0m   field\u001b[38;5;241m.\u001b[39msetdefault(\u001b[38;5;124m'\u001b[39m\u001b[38;5;124mmedia\u001b[39m\u001b[38;5;124m'\u001b[39m, [])\n",
      "\u001b[0;31mTypeError\u001b[0m: 'set' object does not support item assignment"
     ]
    }
   ],
   "source": [
    "trial_package = genanki.Package(trial_deck)\n",
    "\n",
    "trial_package.write_to_file('clinical_trials.apkg')"
   ]
  },
  {
   "cell_type": "code",
   "execution_count": null,
   "id": "e4c4f91e",
   "metadata": {},
   "outputs": [],
   "source": []
  }
 ],
 "metadata": {
  "kernelspec": {
   "display_name": "Python 3 (ipykernel)",
   "language": "python",
   "name": "python3"
  },
  "language_info": {
   "codemirror_mode": {
    "name": "ipython",
    "version": 3
   },
   "file_extension": ".py",
   "mimetype": "text/x-python",
   "name": "python",
   "nbconvert_exporter": "python",
   "pygments_lexer": "ipython3",
   "version": "3.8.17"
  }
 },
 "nbformat": 4,
 "nbformat_minor": 5
}
