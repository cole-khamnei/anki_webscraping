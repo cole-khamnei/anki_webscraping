{
 "cells": [
  {
   "cell_type": "code",
   "execution_count": 1,
   "id": "c356d4ce",
   "metadata": {},
   "outputs": [],
   "source": [
    "%load_ext autoreload\n",
    "%autoreload 2\n",
    "\n",
    "from tqdm.notebook import tqdm\n",
    "\n",
    "import genanki\n",
    "import webscrape as ws\n",
    "import anki_utils as au"
   ]
  },
  {
   "cell_type": "markdown",
   "id": "3cc7f0dc",
   "metadata": {},
   "source": [
    "# Scrape Images"
   ]
  },
  {
   "cell_type": "code",
   "execution_count": null,
   "id": "948c6d45",
   "metadata": {},
   "outputs": [
    {
     "data": {
      "application/vnd.jupyter.widget-view+json": {
       "model_id": "2a63e42fd0dd4b87b94e97c34544c61a",
       "version_major": 2,
       "version_minor": 0
      },
      "text/plain": [
       "Scraping #radiology::chest_x-ray::anatomical_variants URLs:   0%|          | 0/10 [00:00<?, ?url/s]"
      ]
     },
     "metadata": {},
     "output_type": "display_data"
    },
    {
     "data": {
      "application/vnd.jupyter.widget-view+json": {
       "model_id": "c9513371c1b64949ad8d181dba7f8c8b",
       "version_major": 2,
       "version_minor": 0
      },
      "text/plain": [
       "Scraping #radiology::chest_x-ray::airways_and_lung_collapse URLs:   0%|          | 0/12 [00:00<?, ?url/s]"
      ]
     },
     "metadata": {},
     "output_type": "display_data"
    },
    {
     "data": {
      "application/vnd.jupyter.widget-view+json": {
       "model_id": "177aff1678724669843f0286382695ce",
       "version_major": 2,
       "version_minor": 0
      },
      "text/plain": [
       "Scraping #radiology::chest_x-ray::devices_and_artifacts URLs:   0%|          | 0/12 [00:00<?, ?url/s]"
      ]
     },
     "metadata": {},
     "output_type": "display_data"
    },
    {
     "data": {
      "application/vnd.jupyter.widget-view+json": {
       "model_id": "b407965da78342d48da6afe42d7c548f",
       "version_major": 2,
       "version_minor": 0
      },
      "text/plain": [
       "Scraping #radiology::chest_x-ray::pneumothorax_gallery URLs:   0%|          | 0/12 [00:00<?, ?url/s]"
      ]
     },
     "metadata": {},
     "output_type": "display_data"
    },
    {
     "data": {
      "application/vnd.jupyter.widget-view+json": {
       "model_id": "85b60301b8ac4e5d80360a29c2aa888b",
       "version_major": 2,
       "version_minor": 0
      },
      "text/plain": [
       "Scraping #radiology::chest_x-ray::lung_cancer URLs:   0%|          | 0/12 [00:00<?, ?url/s]"
      ]
     },
     "metadata": {},
     "output_type": "display_data"
    },
    {
     "data": {
      "application/vnd.jupyter.widget-view+json": {
       "model_id": "d447241648b34bb98f0a91b1c79b3afd",
       "version_major": 2,
       "version_minor": 0
      },
      "text/plain": [
       "Scraping #radiology::chest_x-ray::mediastinum_and_hilum URLs:   0%|          | 0/12 [00:00<?, ?url/s]"
      ]
     },
     "metadata": {},
     "output_type": "display_data"
    },
    {
     "data": {
      "application/vnd.jupyter.widget-view+json": {
       "model_id": "d08af757e8b94f4c9c55dde2db69c741",
       "version_major": 2,
       "version_minor": 0
      },
      "text/plain": [
       "Scraping #radiology::chest_x-ray::pulmonary_disease URLs:   0%|          | 0/12 [00:00<?, ?url/s]"
      ]
     },
     "metadata": {},
     "output_type": "display_data"
    },
    {
     "data": {
      "application/vnd.jupyter.widget-view+json": {
       "model_id": "ecccd69ff75d44669a3005bbd925f230",
       "version_major": 2,
       "version_minor": 0
      },
      "text/plain": [
       "Scraping #radiology::chest_x-ray::cardiac_disease URLs:   0%|          | 0/12 [00:00<?, ?url/s]"
      ]
     },
     "metadata": {},
     "output_type": "display_data"
    },
    {
     "data": {
      "application/vnd.jupyter.widget-view+json": {
       "model_id": "f4fb007157414c74b779d844dffec212",
       "version_major": 2,
       "version_minor": 0
      },
      "text/plain": [
       "Scraping #radiology::chest_x-ray::quality URLs:   0%|          | 0/12 [00:00<?, ?url/s]"
      ]
     },
     "metadata": {},
     "output_type": "display_data"
    },
    {
     "data": {
      "application/vnd.jupyter.widget-view+json": {
       "model_id": "78b275cc78f54635b0c2893d09b74b9b",
       "version_major": 2,
       "version_minor": 0
      },
      "text/plain": [
       "Scraping #radiology::ct_brain::gallery_1 URLs:   0%|          | 0/12 [00:00<?, ?url/s]"
      ]
     },
     "metadata": {},
     "output_type": "display_data"
    },
    {
     "data": {
      "application/vnd.jupyter.widget-view+json": {
       "model_id": "07376ed4b9494ad4bcd8348bc8edccd4",
       "version_major": 2,
       "version_minor": 0
      },
      "text/plain": [
       "Scraping #radiology::ct_brain::gallery_2::scroll_images URLs:   0%|          | 0/12 [00:00<?, ?url/s]"
      ]
     },
     "metadata": {},
     "output_type": "display_data"
    },
    {
     "data": {
      "application/vnd.jupyter.widget-view+json": {
       "model_id": "c5e0937a507e405790bfb869f74cac2a",
       "version_major": 2,
       "version_minor": 0
      },
      "text/plain": [
       "Scraping #radiology::trauma_x-ray::upper_limb::gallery_1 URLs:   0%|          | 0/12 [00:00<?, ?url/s]"
      ]
     },
     "metadata": {},
     "output_type": "display_data"
    },
    {
     "data": {
      "application/vnd.jupyter.widget-view+json": {
       "model_id": "6107327cf2ea4f86aa5834e544583462",
       "version_major": 2,
       "version_minor": 0
      },
      "text/plain": [
       "Scraping #radiology::trauma_x-ray::upper_limb::gallery_2 URLs:   0%|          | 0/12 [00:00<?, ?url/s]"
      ]
     },
     "metadata": {},
     "output_type": "display_data"
    },
    {
     "data": {
      "application/vnd.jupyter.widget-view+json": {
       "model_id": "2db08c6c63c746e08acf39bf513246f0",
       "version_major": 2,
       "version_minor": 0
      },
      "text/plain": [
       "Scraping #radiology::trauma_x-ray::lower_limb::gallery_1 URLs:   0%|          | 0/12 [00:00<?, ?url/s]"
      ]
     },
     "metadata": {},
     "output_type": "display_data"
    },
    {
     "data": {
      "application/vnd.jupyter.widget-view+json": {
       "model_id": "7fc533f018214b838f98bd75d571c514",
       "version_major": 2,
       "version_minor": 0
      },
      "text/plain": [
       "Scraping #radiology::trauma_x-ray::lower_limb::gallery_2 URLs:   0%|          | 0/12 [00:00<?, ?url/s]"
      ]
     },
     "metadata": {},
     "output_type": "display_data"
    },
    {
     "data": {
      "application/vnd.jupyter.widget-view+json": {
       "model_id": "125e2f9bd5ca4aed8100844f4acdd4aa",
       "version_major": 2,
       "version_minor": 0
      },
      "text/plain": [
       "Scraping #radiology::trauma_x-ray::axial_skeleton::gallery_1 URLs:   0%|          | 0/12 [00:00<?, ?url/s]"
      ]
     },
     "metadata": {},
     "output_type": "display_data"
    },
    {
     "data": {
      "application/vnd.jupyter.widget-view+json": {
       "model_id": "2a73ddc3d7554e5ab3ce73d67c09cb5e",
       "version_major": 2,
       "version_minor": 0
      },
      "text/plain": [
       "Scraping #radiology::trauma_x-ray::axial_skeleton::gallery_2 URLs:   0%|          | 0/12 [00:00<?, ?url/s]"
      ]
     },
     "metadata": {},
     "output_type": "display_data"
    },
    {
     "data": {
      "application/vnd.jupyter.widget-view+json": {
       "model_id": "8dbbf141b83143f6be018060b7585f3c",
       "version_major": 2,
       "version_minor": 0
      },
      "text/plain": [
       "Scraping #radiology::abdominal_x-ray::abnormalities URLs:   0%|          | 0/12 [00:00<?, ?url/s]"
      ]
     },
     "metadata": {},
     "output_type": "display_data"
    },
    {
     "data": {
      "application/vnd.jupyter.widget-view+json": {
       "model_id": "a84299238cb0498499e84fdebc8fe176",
       "version_major": 2,
       "version_minor": 0
      },
      "text/plain": [
       "Scraping #radiology::abdominal_x-ray::artifacts URLs:   0%|          | 0/12 [00:00<?, ?url/s]"
      ]
     },
     "metadata": {},
     "output_type": "display_data"
    },
    {
     "data": {
      "application/vnd.jupyter.widget-view+json": {
       "model_id": "595a8ddd8c024b389de4c6a56c1c6623",
       "version_major": 2,
       "version_minor": 0
      },
      "text/plain": [
       "Scraping #radiology::abdominal_x-ray::calcification URLs:   0%|          | 0/12 [00:00<?, ?url/s]"
      ]
     },
     "metadata": {},
     "output_type": "display_data"
    }
   ],
   "source": [
    "url = \"https://www.radiologymasterclass.co.uk/gallery/galleries\"\n",
    "\n",
    "overwrite = True\n",
    "if overwrite:\n",
    "    deck_cards = ws.get_deck_cards(url)"
   ]
  },
  {
   "cell_type": "markdown",
   "id": "a6157b7d",
   "metadata": {},
   "source": [
    "# Card Format"
   ]
  },
  {
   "cell_type": "code",
   "execution_count": null,
   "id": "a12c4928",
   "metadata": {},
   "outputs": [],
   "source": [
    "BASE_QFMT = \"<div style='font-family: Arial; font-size: 20px; color: red; text-align: center'>{content}</div>\"\n",
    "BASE_AFMT = \"<div style='font-family: Arial; font-size: 20px; color: magenta; text-align: center'>{content}</div>\"\n",
    "\n",
    "def create_qfmt(content):\n",
    "    return BASE_QFMT.format(content=content)\n",
    "\n",
    "def create_afmt(content):\n",
    "    return BASE_AFMT.format(content=content)"
   ]
  },
  {
   "cell_type": "code",
   "execution_count": null,
   "id": "11cf40ce",
   "metadata": {},
   "outputs": [],
   "source": [
    "templates = [{'name': 'Card 1',\n",
    "              'qfmt': create_qfmt(\"Description/Diagnosis?<br>{{cloze:Question}}<br>{{show_image}}\"),\n",
    "              'afmt': create_afmt('{{Answer}}<br>{{show_image}}   {{teach_image}}<br>{{Description}}'),\n",
    "            }]\n",
    "\n",
    "fields = [{\"name\": \"Question\"}, {\"name\": \"Answer\"}, {\"name\": \"Description\"},\n",
    "          {\"name\": \"show_image\"}, {\"name\": \"teach_image\"}]\n",
    "\n",
    "radiology_model = ModelX(1371312, \"show_teach_image_model\", fields=fields, templates=templates)"
   ]
  },
  {
   "cell_type": "markdown",
   "id": "b19fe6ed",
   "metadata": {},
   "source": [
    "# Build Deck "
   ]
  },
  {
   "cell_type": "code",
   "execution_count": 383,
   "id": "7f6e93d0",
   "metadata": {},
   "outputs": [
    {
     "data": {
      "application/vnd.jupyter.widget-view+json": {
       "model_id": "dbca194358ae4bb781c849bb99c93dda",
       "version_major": 2,
       "version_minor": 0
      },
      "text/plain": [
       "Creating Cards:   0%|          | 0/528 [00:00<?, ? Cards/s]"
      ]
     },
     "metadata": {},
     "output_type": "display_data"
    }
   ],
   "source": [
    "radiology_deck = ga.Deck(13713121, 'radiology_images')\n",
    "\n",
    "model = radiology_model\n",
    "deck = radiology_deck\n",
    "media_files = []\n",
    "\n",
    "names = {}\n",
    "\n",
    "for i, card in tqdm(enumerate(deck_cards), desc=\"Creating Cards\", unit=\" Cards\", total=len(deck_cards)):\n",
    "    if card.name in names:\n",
    "        names[card.name] += 1\n",
    "        card.name = card.name + f\"_{names[card.name]}\"\n",
    "    else:\n",
    "        names[card.name] = 1\n",
    "    card.save_name = f\"{i:003}_\" + card.name.lower().replace(\" \", \"_\").replace(\"/\", \"_\")\n",
    "    card.show_image_path = f\"images/{card.save_name}_show_image.jpg\"\n",
    "    card.teach_image_path = f\"images/{card.save_name}_teach_image.jpg\"\n",
    "    card.image_paths = [card.show_image_path, card.teach_image_path]\n",
    "\n",
    "    card.show_image.save(card.show_image_path)\n",
    "    card.teach_image.save(card.teach_image_path)\n",
    "\n",
    "    note = NoteX(model=radiology_model,\n",
    "                   fields=[f\"Question: Description and Diagnosis? {{c1::{card.name}}}\", card.name, card.desc,\n",
    "                           f'<img src=\"{os.path.basename(card.show_image_path)}\">',\n",
    "                           f'<img src=\"{os.path.basename(card.teach_image_path)}\">'],\n",
    "                  tags=card.tags)\n",
    "    deck.add_note(note)\n",
    "    media_files += card.image_paths"
   ]
  },
  {
   "cell_type": "markdown",
   "id": "f94eee25",
   "metadata": {},
   "source": [
    "# Save Deck"
   ]
  },
  {
   "cell_type": "code",
   "execution_count": 384,
   "id": "5f88c6e4",
   "metadata": {},
   "outputs": [
    {
     "name": "stderr",
     "output_type": "stream",
     "text": [
      "/Users/cole/miniconda3/envs/py38/lib/python3.8/site-packages/genanki/note.py:148: UserWarning: Field contained the following invalid HTML tags. Make sure you are calling html.escape() if your field data isn't already HTML-encoded: <_li> <_ul> <_figcaption>\n",
      "  warnings.warn(\"Field contained the following invalid HTML tags. Make sure you are calling html.escape() if\"\n"
     ]
    }
   ],
   "source": [
    "radiology_package = genanki.Package(radiology_deck)\n",
    "radiology_package.media_files = media_files\n",
    "\n",
    "radiology_package.write_to_file('radiology_images.apkg')"
   ]
  },
  {
   "cell_type": "code",
   "execution_count": null,
   "id": "26680db6",
   "metadata": {},
   "outputs": [],
   "source": []
  },
  {
   "cell_type": "code",
   "execution_count": null,
   "id": "4b2b2dd0",
   "metadata": {},
   "outputs": [],
   "source": []
  },
  {
   "cell_type": "code",
   "execution_count": null,
   "id": "cbaba38f",
   "metadata": {},
   "outputs": [],
   "source": []
  },
  {
   "cell_type": "code",
   "execution_count": null,
   "id": "3fc7a8ac",
   "metadata": {},
   "outputs": [],
   "source": []
  },
  {
   "cell_type": "code",
   "execution_count": null,
   "id": "a423d728",
   "metadata": {},
   "outputs": [],
   "source": []
  },
  {
   "cell_type": "code",
   "execution_count": 1,
   "id": "f6515eed",
   "metadata": {},
   "outputs": [],
   "source": [
    "import io\n",
    "import time\n",
    "import requests\n",
    "import re\n",
    "from PIL import Image\n",
    "from io import BytesIO\n",
    "\n",
    "from bs4 import BeautifulSoup as bsoup\n",
    "from tqdm.notebook import tqdm"
   ]
  },
  {
   "cell_type": "code",
   "execution_count": 2,
   "id": "751f1a5a",
   "metadata": {},
   "outputs": [],
   "source": [
    "REQUEST_HEADERS = {\n",
    "    'User-Agent': 'Mozilla/5.0 (Macintosh; Intel Mac OS X 10_10_1) AppleWebKit/537.36 (KHTML, like Gecko)'\n",
    "    ' Chrome/39.0.2171.95 Safari/537.36'\n",
    "}\n",
    "ANTI_DOS_DELAY = 0.1"
   ]
  },
  {
   "cell_type": "code",
   "execution_count": 3,
   "id": "c6ed58a0",
   "metadata": {},
   "outputs": [],
   "source": [
    "def safe_request(url: str, headers: dict = REQUEST_HEADERS,\n",
    "                 anti_dos_delay: float = ANTI_DOS_DELAY):\n",
    "    \"\"\"\"\"\"\n",
    "    time.sleep(anti_dos_delay)\n",
    "    try:\n",
    "        data = requests.get(url, headers=headers)\n",
    "        return data\n",
    "    except requests.exceptions.ConnectionError as e:\n",
    "        with warnings.catch_warnings():\n",
    "            warnings.simplefilter(\"ignore\")\n",
    "            return requests.get(url, headers=headers, verify=False)\n",
    "        \n",
    "def get_html(url: str):\n",
    "    \"\"\"\"\"\"\n",
    "    request_content = safe_request(url)\n",
    "    return bsoup(request_content.content)"
   ]
  },
  {
   "cell_type": "code",
   "execution_count": 363,
   "id": "f851694b",
   "metadata": {},
   "outputs": [],
   "source": [
    "def str_remover(string: str, *tokens):\n",
    "    \"\"\"\"\"\"\n",
    "    for token in tokens:\n",
    "        string = string.replace(token, \"\")\n",
    "    return string\n",
    "\n",
    "def get_box_legends(html):\n",
    "    \"\"\"\"\"\"\n",
    "    return html.find_all(attrs={\"class\":\"boxlegend\"})\n",
    "\n",
    "def process_box_legend(boxlegend_html):\n",
    "    \"\"\"\"\"\"\n",
    "    description = str(boxlegend_html).split('boxlegend\">')[1]#.replace(\"<li>\", \"\\n\")\n",
    "#     return str_remover(description, \"li>\", \"strong>\", \"hr>\", \"ul>\", \"h4>\", \"figcaption>\", \"</\", \"<\")\n",
    "    return description\n",
    "\n",
    "def get_image_urls(html):\n",
    "    \"\"\"\"\"\"\n",
    "    return re.findall(\"\\((.*?)\\)\", html.find('style').text)\n",
    "\n",
    "def get_images_from_url(url: str):\n",
    "    \"\"\"\"\"\"\n",
    "    response = safe_request(url)\n",
    "    img = Image.open(BytesIO(response.content))\n",
    "    width, height = img.size\n",
    "    show_image = img.crop(box=(0, 0, width // 2, height))\n",
    "    teach_image = img.crop(box=(width // 2, 0, width, height))\n",
    "    return show_image, teach_image"
   ]
  },
  {
   "cell_type": "code",
   "execution_count": 364,
   "id": "2857b409",
   "metadata": {},
   "outputs": [],
   "source": [
    "def get_gallery_image_links(gallery_url: str):\n",
    "    \"\"\"\"\"\"\n",
    "    gallery_html = get_html(gallery_url)\n",
    "    gallery_elements = gallery_html.find(attrs={\"id\": \"breadcrumb\"}).findAll('a')[2:]\n",
    "    gallery_links = [gallery_element.attrs[\"href\"] for gallery_element in gallery_elements]\n",
    "    return [gallery_url] + gallery_links\n",
    "\n",
    "def get_gallery_info(gallery, tag_prefix):\n",
    "    \"\"\"\"\"\"\n",
    "    tags = [tag_prefix + \"::\" + gallery.contents[0].replace(\" \", \"_\").lower().replace(\"_-_\", \"::\")]\n",
    "    url = gallery.attrs[\"href\"]\n",
    "    links = get_gallery_image_links(url)\n",
    "    return tags, links"
   ]
  },
  {
   "cell_type": "code",
   "execution_count": 365,
   "id": "b438a525",
   "metadata": {},
   "outputs": [],
   "source": [
    "class ProtoCardData:\n",
    "    def __init__(self, desc: str, image_url: str):\n",
    "        self.desc = desc.replace(\"<li>\", \"<br> &#x2022; \").replace(\"</li>\", \"\")\n",
    "        self.name = desc.split(\"</h4>\")[0].replace(\"<h4>\", \"\")\n",
    "        self.image_url = image_url\n",
    "        self.show_image, self.teach_image = get_images_from_url(image_url)\n",
    "        self.tags = []\n",
    "        \n",
    "    def add_tags(self, tags):\n",
    "        self.tags = self.tags + list(tags)\n",
    "        \n",
    "    def __repr__(self):\n",
    "        s = self.desc.split(\"\\n\")[0]\n",
    "        s += f\":\\n{self.image_url}\\n\"\n",
    "        return s\n",
    "\n",
    "def scrape_card_info(url: str, pbar_desc: str = \"\"):\n",
    "    \"\"\"\"\"\"\n",
    "    \n",
    "    if isinstance(url, (tuple, list)):\n",
    "        pbar =  tqdm(url, unit=\"url\", desc=f\"Scraping {pbar_desc} URLs\")\n",
    "        return [card for url_i in pbar for card in scrape_card_info(url_i)]\n",
    "        \n",
    "    request_content = safe_request(url)\n",
    "    url_html = bsoup(request_content.content)\n",
    "\n",
    "    box_legends = get_box_legends(url_html)\n",
    "    descriptions = [process_box_legend(box_legend) for box_legend in box_legends]\n",
    "\n",
    "    image_urls = get_image_urls(url_html)\n",
    "    \n",
    "    return [ProtoCardData(desc, image_url) for desc, image_url in zip(descriptions, image_urls)]"
   ]
  },
  {
   "cell_type": "code",
   "execution_count": 376,
   "id": "e1eef653",
   "metadata": {},
   "outputs": [],
   "source": [
    "def get_deck_cards(url):\n",
    "    \"\"\"\"\"\"\n",
    "    base_html = get_html(url)\n",
    "\n",
    "    deck_cards = []\n",
    "    deck_tag = \"#radiology\"\n",
    "    topics = base_html.find_all(attrs={\"class\": \"gallinfo\"})\n",
    "    for topic in topics:\n",
    "        galleries = topic.findAll('a')\n",
    "        for gallery in galleries:\n",
    "            gallery_tags, gallery_links = get_gallery_info(gallery, tag_prefix=deck_tag)\n",
    "            gallery_cards = scrape_card_info(gallery_links, pbar_desc=gallery_tags[0])\n",
    "\n",
    "            for gallery_card in gallery_cards:\n",
    "                gallery_card.add_tags(gallery_tags)\n",
    "\n",
    "            deck_cards += gallery_cards\n",
    "\n",
    "    return deck_cards"
   ]
  },
  {
   "cell_type": "code",
   "execution_count": 385,
   "id": "157de8e8",
   "metadata": {},
   "outputs": [],
   "source": [
    "url = \"https://www.radiologymasterclass.co.uk/gallery/galleries\"\n",
    "\n",
    "overwrite = False\n",
    "if overwrite:\n",
    "    deck_cards = get_deck_cards(url)"
   ]
  },
  {
   "cell_type": "markdown",
   "id": "8bcb690a",
   "metadata": {},
   "source": [
    "# Building the Deck"
   ]
  },
  {
   "cell_type": "code",
   "execution_count": 379,
   "id": "5ab7f867",
   "metadata": {},
   "outputs": [],
   "source": [
    "import genanki\n",
    "from cached_property import cached_property\n",
    "import re\n",
    "\n",
    "class ModelX(genanki.Model):\n",
    "    def __init__(self, model_id=None, name=None, fields=None, templates=None, css='', type=0):\n",
    "        super().__init__(model_id, name, fields, templates, css)\n",
    "        self._type = type\n",
    "\n",
    "    def to_json(self, now_ts, deck_id):\n",
    "        j = super().to_json(now_ts, deck_id)\n",
    "        j[\"type\"] = self._type\n",
    "        return j\n",
    "\n",
    "class NoteX(genanki.Note):\n",
    "    def _cloze_cards(self):\n",
    "        \"\"\"\n",
    "        returns a Card with unique ord for each unique cloze reference\n",
    "        \"\"\"\n",
    "        card_ords = set()\n",
    "        # find cloze replacements in first template's qfmt, e.g \"{{cloze::Text}}\"\n",
    "        cloze_replacements = set(re.findall(\"{{[^}]*?cloze:(?:[^}]?:)*(.+?)}}\", self.model.templates[0]['qfmt']) +\n",
    "                                 re.findall(\"<%cloze:(.+?)%>\", self.model.templates[0]['qfmt']))\n",
    "        for field_name in cloze_replacements:\n",
    "          field_index = next((i for i, f in enumerate(self.model.fields) if f['name'] == field_name), -1)\n",
    "          field_value = self.fields[field_index] if field_index >= 0 else \"\"\n",
    "          # update card_ords with each cloze reference N, e.g. \"{{cN::...}}\"\n",
    "          card_ords.update([int(m)-1 for m in re.findall(\"{{c(\\d+)::.+?}}\", field_value) if int(m) > 0])\n",
    "\n",
    "        if card_ords == {}:\n",
    "            card_ords = {0}\n",
    "\n",
    "        return([genanki.Card(ord) for ord in card_ords])\n",
    "\n",
    "    @cached_property\n",
    "    def cards(self):\n",
    "        if self.model._type == 1:\n",
    "            return self._cloze_cards()\n",
    "        else:\n",
    "            return super().cards\n"
   ]
  },
  {
   "cell_type": "code",
   "execution_count": 380,
   "id": "9164708d",
   "metadata": {},
   "outputs": [],
   "source": [
    "import genanki\n",
    "import genanki as ga\n",
    "\n",
    "import os"
   ]
  },
  {
   "cell_type": "code",
   "execution_count": 381,
   "id": "406aa5dc",
   "metadata": {},
   "outputs": [],
   "source": [
    "BASE_QFMT = \"<div style='font-family: Arial; font-size: 20px; color: red; text-align: center'>{content}</div>\"\n",
    "BASE_AFMT = \"<div style='font-family: Arial; font-size: 20px; color: magenta; text-align: center'>{content}</div>\"\n",
    "\n",
    "def create_qfmt(content):\n",
    "    return BASE_QFMT.format(content=content)\n",
    "\n",
    "def create_afmt(content):\n",
    "    return BASE_AFMT.format(content=content)"
   ]
  },
  {
   "cell_type": "code",
   "execution_count": 382,
   "id": "f4043ae9",
   "metadata": {},
   "outputs": [],
   "source": [
    "templates = [{'name': 'Card 1',\n",
    "              'qfmt': create_qfmt(\"Description/Diagnosis?<br>{{cloze:Question}}<br>{{show_image}}\"),\n",
    "              'afmt': create_afmt('{{Answer}}<br>{{show_image}}   {{teach_image}}<br>{{Description}}'),\n",
    "            }]\n",
    "\n",
    "fields = [{\"name\": \"Question\"}, {\"name\": \"Answer\"}, {\"name\": \"Description\"},\n",
    "          {\"name\": \"show_image\"}, {\"name\": \"teach_image\"}]\n",
    "\n",
    "radiology_model = ModelX(1371312, \"show_teach_image_model\", fields=fields, templates=templates)"
   ]
  },
  {
   "cell_type": "code",
   "execution_count": 383,
   "id": "325f332e",
   "metadata": {},
   "outputs": [
    {
     "data": {
      "application/vnd.jupyter.widget-view+json": {
       "model_id": "dbca194358ae4bb781c849bb99c93dda",
       "version_major": 2,
       "version_minor": 0
      },
      "text/plain": [
       "Creating Cards:   0%|          | 0/528 [00:00<?, ? Cards/s]"
      ]
     },
     "metadata": {},
     "output_type": "display_data"
    }
   ],
   "source": [
    "radiology_deck = ga.Deck(13713121, 'radiology_images')\n",
    "\n",
    "model = radiology_model\n",
    "deck = radiology_deck\n",
    "media_files = []\n",
    "\n",
    "names = {}\n",
    "\n",
    "for i, card in tqdm(enumerate(deck_cards), desc=\"Creating Cards\", unit=\" Cards\", total=len(deck_cards)):\n",
    "    if card.name in names:\n",
    "        names[card.name] += 1\n",
    "        card.name = card.name + f\"_{names[card.name]}\"\n",
    "    else:\n",
    "        names[card.name] = 1\n",
    "    card.save_name = f\"{i:003}_\" + card.name.lower().replace(\" \", \"_\").replace(\"/\", \"_\")\n",
    "    card.show_image_path = f\"images/{card.save_name}_show_image.jpg\"\n",
    "    card.teach_image_path = f\"images/{card.save_name}_teach_image.jpg\"\n",
    "    card.image_paths = [card.show_image_path, card.teach_image_path]\n",
    "\n",
    "    card.show_image.save(card.show_image_path)\n",
    "    card.teach_image.save(card.teach_image_path)\n",
    "\n",
    "    note = NoteX(model=radiology_model,\n",
    "                   fields=[f\"Question: Description and Diagnosis? {{c1::{card.name}}}\", card.name, card.desc,\n",
    "                           f'<img src=\"{os.path.basename(card.show_image_path)}\">',\n",
    "                           f'<img src=\"{os.path.basename(card.teach_image_path)}\">'],\n",
    "                  tags=card.tags)\n",
    "    deck.add_note(note)\n",
    "    media_files += card.image_paths"
   ]
  },
  {
   "cell_type": "code",
   "execution_count": 384,
   "id": "45c516bc",
   "metadata": {},
   "outputs": [
    {
     "name": "stderr",
     "output_type": "stream",
     "text": [
      "/Users/cole/miniconda3/envs/py38/lib/python3.8/site-packages/genanki/note.py:148: UserWarning: Field contained the following invalid HTML tags. Make sure you are calling html.escape() if your field data isn't already HTML-encoded: <_li> <_ul> <_figcaption>\n",
      "  warnings.warn(\"Field contained the following invalid HTML tags. Make sure you are calling html.escape() if\"\n"
     ]
    }
   ],
   "source": [
    "radiology_package = genanki.Package(radiology_deck)\n",
    "radiology_package.media_files = media_files\n",
    "\n",
    "radiology_package.write_to_file('radiology_images.apkg')"
   ]
  },
  {
   "cell_type": "code",
   "execution_count": null,
   "id": "5141d506",
   "metadata": {},
   "outputs": [],
   "source": []
  },
  {
   "cell_type": "code",
   "execution_count": null,
   "id": "983d61f7",
   "metadata": {},
   "outputs": [],
   "source": []
  }
 ],
 "metadata": {
  "kernelspec": {
   "display_name": "Python 3 (ipykernel)",
   "language": "python",
   "name": "python3"
  },
  "language_info": {
   "codemirror_mode": {
    "name": "ipython",
    "version": 3
   },
   "file_extension": ".py",
   "mimetype": "text/x-python",
   "name": "python",
   "nbconvert_exporter": "python",
   "pygments_lexer": "ipython3",
   "version": "3.8.13"
  }
 },
 "nbformat": 4,
 "nbformat_minor": 5
}
